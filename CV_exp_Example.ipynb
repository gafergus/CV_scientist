{
 "cells": [
  {
   "cell_type": "markdown",
   "metadata": {},
   "source": [
    "## Making CV experiments fun!"
   ]
  },
  {
   "cell_type": "markdown",
   "metadata": {},
   "source": [
    "### First, import gin and the CV framework"
   ]
  },
  {
   "cell_type": "code",
   "execution_count": 9,
   "metadata": {},
   "outputs": [],
   "source": [
    "import gin\n",
    "from cv_framework import cv_scientist"
   ]
  },
  {
   "cell_type": "markdown",
   "metadata": {},
   "source": [
    "### Below is the gin file, all modifcations shoule be clearly descirbed in the file."
   ]
  },
  {
   "cell_type": "code",
   "execution_count": 13,
   "metadata": {},
   "outputs": [],
   "source": [
    "gin_file = '''\n",
    "###################### Global Experiment Parameters ######################\n",
    "# Each experiment should have its own configuration file. These variables are always be preceded by CompVisExperiment.\n",
    "\n",
    "# Parameters\n",
    "CompVisExperiment.base_directory='/data/gferguso/cv_unit_test/'\n",
    "CompVisExperiment.experiment_name='WB_Unit_Test_symlink'\n",
    "CompVisExperiment.image_directory='/data/gferguso/cv_unit_test/cv_unit_test_image_dir'\n",
    "CompVisExperiment.labels_csv='color_field_files.csv'\n",
    "CompVisExperiment.file_name_column='file_name'\n",
    "CompVisExperiment.labels_column='class'\n",
    "CompVisExperiment.use_symlinks=True\n",
    "\n",
    "###################### Global Dataset Parameters ######################\n",
    "# In the cases this where these need to change, e.g., learning curves,\n",
    "# each set of data should be a new experiment.\n",
    "\n",
    "# Dataset Parameters\n",
    "FilePrep.remake_train_test=False\n",
    "FilePrep.train=0.60\n",
    "\n",
    "###################### Model-Specific Dataset Parameters ######################\n",
    "# Variable names MUST match those in sent in the model dictionary, e.g, the model_dict\n",
    "# {'simple_CNN':['sim_dog', 'sim_cat'], 'ResNet50':['res_dog', 'res_cat']} sets two instances of the\n",
    "# Simple CNN architecture to the names sim_dog and sim_cat and two instances of ResNet50 architecture to the names\n",
    "# res_dog and res_cat. Variables can then be set as follows: sim_cat/ = value sets the learning rate for the\n",
    "# simple_CNN architecture with the name sim_cat. Variables without a name are set for ALL models. If a global\n",
    "# default is not set then sertting must be applied to each model.\n",
    "\n",
    "# Data Shape Parameters\n",
    "data_shape.input=(128, 128, 1)\n",
    "sim_cat/data_shape.input=(32, 32, 1)\n",
    "res_cat/data_shape.input=(64, 64, 1)\n",
    "data_shape.output=(2)\n",
    "\n",
    "# Overall Generator Parameters\n",
    "directory_flow.dir='.'\n",
    "directory_flow.batch_size=10\n",
    "directory_flow.color_mode='grayscale'\n",
    "directory_flow.class_mode='categorical'\n",
    "directory_flow.seed=42\n",
    "directory_flow.interpolation='nearest'\n",
    "\n",
    "# Batch Generator Parameters\n",
    "fit_generator.epochs=3\n",
    "fit_generator.class_weight=None\n",
    "\n",
    "# Image Generator Parameters\n",
    "image_generator.featurewise_center=False\n",
    "image_generator.samplewise_center=False\n",
    "image_generator.featurewise_std_normalization=False\n",
    "image_generator.samplewise_std_normalization=False\n",
    "image_generator.zca_whitening=False\n",
    "image_generator.zca_epsilon=1e-06\n",
    "image_generator.rotation_range=0\n",
    "image_generator.width_shift_range=0.0\n",
    "image_generator.height_shift_range=0.0\n",
    "image_generator.brightness_range=None\n",
    "image_generator.shear_range=0.0\n",
    "image_generator.zoom_range=0.0\n",
    "image_generator.channel_shift_range=0.0\n",
    "image_generator.fill_mode='nearest'\n",
    "image_generator.cval=0.0\n",
    "image_generator.horizontal_flip=False\n",
    "image_generator.vertical_flip=False\n",
    "#image_generator.rescale=1.0/255\n",
    "image_generator.preprocessing_function=None\n",
    "\n",
    "###################### Model Specific Parameters ######################\n",
    "# Variables set for each model\n",
    "\n",
    "# Model Parameters\n",
    "# NOTE: Incoreect optimizer parameters will be ignored, e.g., setting the rho parameter\n",
    "# for the Adam optimizer will have no effect\n",
    "sim_cat/comp_model.lr=0.01\n",
    "sim_dog/comp_model.lr=0.0001\n",
    "res_cat/comp_model.lr=0.01\n",
    "res_dog/comp_model.lr=0.0001\n",
    "comp_model.optimizer='Adam'\n",
    "comp_model.loss='categorical_crossentropy'\n",
    "#comp_model.metrics=None\n",
    "#comp_model.momentum=None\n",
    "#comp_model.decay=None\n",
    "#comp_model.nestrov=None\n",
    "#comp_model.rho=None\n",
    "#comp_model.epsilon=None\n",
    "#comp_model.beta_1=None\n",
    "#comp_model.beta_2=None\n",
    "#comp_model.amsgrad=None\n",
    "#comp_model.schedule_decay=None\n",
    "\n",
    "# Add callbacks\n",
    "callback_list.calls=None\n",
    "'''"
   ]
  },
  {
   "cell_type": "code",
   "execution_count": null,
   "metadata": {},
   "outputs": [],
   "source": [
    "gin_fie_name_on_disk = 'tes.gin'"
   ]
  },
  {
   "cell_type": "markdown",
   "metadata": {},
   "source": [
    "#### Becuase we're running the package in  Jupyter notebook we need to write the file out to a gin-config file."
   ]
  },
  {
   "cell_type": "code",
   "execution_count": null,
   "metadata": {},
   "outputs": [],
   "source": [
    "with open(gin_fie_name_on_disk, 'w') as f:\n",
    "    f.write(gin_file)"
   ]
  },
  {
   "cell_type": "markdown",
   "metadata": {},
   "source": [
    "#### Run the parse_config_file on the gin-config file on disk, that's it, now you're done with gin."
   ]
  },
  {
   "cell_type": "code",
   "execution_count": null,
   "metadata": {},
   "outputs": [],
   "source": [
    "gin.parse_config_file('config_UNIT_TEST.gin')"
   ]
  },
  {
   "cell_type": "markdown",
   "metadata": {},
   "source": [
    "### Instantiate an experiment"
   ]
  },
  {
   "cell_type": "code",
   "execution_count": null,
   "metadata": {},
   "outputs": [],
   "source": [
    "experiment = cv_scientist.CompVisExperiment()"
   ]
  },
  {
   "cell_type": "markdown",
   "metadata": {},
   "source": [
    "### Make a model dictionary in the format: {'model_architecture':[list of names for architecture]} <br> All architectures supported are currently listed below."
   ]
  },
  {
   "cell_type": "code",
   "execution_count": null,
   "metadata": {},
   "outputs": [],
   "source": [
    "model_dict = {'simple_CNN':['sim_dog', 'sim_cat'],\n",
    "              'ResNet50':['res_dog', 'res_cat'],\n",
    "              'InceptionResNetV2':['InResV2'],\n",
    "              'InceptionV3':['IncV2'],\n",
    "              'Multiscale_CNN':['Multi'],\n",
    "              'Xception':['Xcep'],\n",
    "              'DenseNet121':['DN121'],\n",
    "              'DenseNet169':['DN169'],\n",
    "              'DenseNet201':['DN201']}"
   ]
  },
  {
   "cell_type": "markdown",
   "metadata": {},
   "source": [
    "### Build the models for the experiment, this returns a dictionary of compiled model objects"
   ]
  },
  {
   "cell_type": "code",
   "execution_count": null,
   "metadata": {},
   "outputs": [],
   "source": [
    "compiled_models = experiment.build_models(model_dict)"
   ]
  },
  {
   "cell_type": "markdown",
   "metadata": {},
   "source": [
    "### Make a list of models you would like to train"
   ]
  },
  {
   "cell_type": "code",
   "execution_count": null,
   "metadata": {},
   "outputs": [],
   "source": [
    "train_list = list(compiled_models.keys())"
   ]
  },
  {
   "cell_type": "markdown",
   "metadata": {},
   "source": [
    "### Train and score the models, returns a dictionary of trained models and the model table"
   ]
  },
  {
   "cell_type": "code",
   "execution_count": null,
   "metadata": {},
   "outputs": [],
   "source": [
    "trained_models, model_table = experiment.train_models(\n",
    "    train_list, \n",
    "    compiled_models, \n",
    "    save_figs=False,\n",
    "    print_class_rep=True, \n",
    "    model_type='bin_classifier'\n",
    ")"
   ]
  },
  {
   "cell_type": "markdown",
   "metadata": {},
   "source": [
    "### Print the model table data frame"
   ]
  },
  {
   "cell_type": "code",
   "execution_count": null,
   "metadata": {},
   "outputs": [],
   "source": [
    "model_table"
   ]
  }
 ],
 "metadata": {
  "kernelspec": {
   "display_name": "Python 3",
   "language": "python",
   "name": "python3"
  },
  "language_info": {
   "codemirror_mode": {
    "name": "ipython",
    "version": 3
   },
   "file_extension": ".py",
   "mimetype": "text/x-python",
   "name": "python",
   "nbconvert_exporter": "python",
   "pygments_lexer": "ipython3",
   "version": "3.6.8"
  }
 },
 "nbformat": 4,
 "nbformat_minor": 2
}